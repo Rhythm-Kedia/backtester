{
 "cells": [
  {
   "cell_type": "markdown",
   "id": "4f479ba8",
   "metadata": {},
   "source": [
    "# Basic Backtester"
   ]
  },
  {
   "cell_type": "code",
   "execution_count": 6,
   "id": "87fc6a47",
   "metadata": {},
   "outputs": [],
   "source": [
    "# import all imp lib\n",
    "import numpy as np\n",
    "import pandas as pd\n",
    "import matplotlib.pyplot as plt\n",
    "import plotly \n",
    "import yfinance as yf\n",
    "import time\n",
    "# etc..."
   ]
  },
  {
   "cell_type": "code",
   "execution_count": 7,
   "id": "ee7f4843",
   "metadata": {},
   "outputs": [
    {
     "name": "stdout",
     "output_type": "stream",
     "text": [
      "YF.download() has changed argument auto_adjust default to True\n"
     ]
    },
    {
     "name": "stderr",
     "output_type": "stream",
     "text": [
      "[*********************100%***********************]  1 of 1 completed"
     ]
    },
    {
     "name": "stdout",
     "output_type": "stream",
     "text": [
      "Price            Close        High         Low        Open    Volume\n",
      "Ticker            AAPL        AAPL        AAPL        AAPL      AAPL\n",
      "Date                                                                \n",
      "2023-11-01  172.478027  172.735792  168.661039  169.533497  56934900\n",
      "2023-11-02  176.047150  176.255340  173.955245  174.014728  77334800\n",
      "2023-11-03  175.135025  175.303580  171.863338  172.745705  79763700\n",
      "2023-11-06  177.692917  177.891199  174.698827  174.867368  63841300\n",
      "2023-11-07  180.260712  180.875390  177.435147  177.643338  70530000\n"
     ]
    },
    {
     "name": "stderr",
     "output_type": "stream",
     "text": [
      "\n"
     ]
    }
   ],
   "source": [
    "# Example of a stock's data\n",
    "apple_data = yf.download(\"AAPL\", start=\"2023-11-01\", end=\"2024-05-01\")\n",
    "\n",
    "print(apple_data.head())\n",
    "\n"
   ]
  },
  {
   "cell_type": "code",
   "execution_count": 8,
   "id": "3950ca0d",
   "metadata": {},
   "outputs": [
    {
     "name": "stdout",
     "output_type": "stream",
     "text": [
      "['A', 'AAPL', 'ABBV', 'ABNB', 'ABT', 'ACGL', 'ACN', 'ADBE', 'ADI', 'ADM']\n"
     ]
    }
   ],
   "source": [
    "# Load list of S&P 500 companies from Wikipedia\n",
    "url = 'https://en.wikipedia.org/wiki/List_of_S%26P_500_companies'\n",
    "table = pd.read_html(url) # returns a dataframe\n",
    "sp500_df = table[0]  # 1st table\n",
    "tickers = sp500_df['Symbol'].tolist()  # List of S&P 500 tickers\n",
    "tickers.sort()\n",
    "print(tickers[:10])  \n"
   ]
  },
  {
   "cell_type": "markdown",
   "id": "a7eeac68",
   "metadata": {},
   "source": [
    "Now we can use these tickers to get the data.\n",
    "\n",
    "\n",
    "Note : Yahoo Finance might block or throttle requests if you fetch too many tickers in bulk. Break it into small batches."
   ]
  },
  {
   "cell_type": "code",
   "execution_count": 9,
   "id": "7a95f3de",
   "metadata": {},
   "outputs": [],
   "source": [
    "# Code to download data of all the tickers in batches of 10, returns a dict storing {ticker : corresponding data}\n",
    "# Also this code senses the data which are not downloadable and delete them from tickers list\n",
    "def download_sp500_data(tickers, start=\"2020-01-01\", end=\"2024-01-01\"):\n",
    "    all_data = {}\n",
    "    failed_tickers = []\n",
    "    batch_size = 10\n",
    "    for i in range(0, len(tickers), batch_size):\n",
    "        batch = tickers[i:i+batch_size]\n",
    "        print(f\"Downloading batch {i//batch_size + 1}: {batch}\")  # 1/10 = 0.1 while 1//10 = 0\n",
    "        try:\n",
    "            data = yf.download(batch, start=start, end=end, group_by='ticker', threads=True)\n",
    "            for ticker in batch:\n",
    "                # Check whether the data is structured correctly\n",
    "                if isinstance(data.columns, pd.MultiIndex) and ticker in data.columns.levels[0]:  # if data is pd.MultiIndex then deal with it\n",
    "                    all_data[ticker] = data[ticker]\n",
    "                elif isinstance(data, dict) and ticker in data: # if data is dict then deal with it\n",
    "                    all_data[ticker] = data[ticker]\n",
    "                else:\n",
    "                    failed_tickers.append(ticker)\n",
    "        except Exception as e:\n",
    "            print(f\"Batch error: {e}\")\n",
    "            failed_tickers.extend(batch)\n",
    "        time.sleep(1)\n",
    "    return all_data, failed_tickers\n"
   ]
  },
  {
   "cell_type": "code",
   "execution_count": 10,
   "id": "a64df77f",
   "metadata": {},
   "outputs": [],
   "source": [
    "# Storing data into csv, as , {ticker}.csv : ticker tell the corresponding stock name\n",
    "def save_data_to_csv(data_dict):\n",
    "    for ticker, df in data_dict.items():\n",
    "        filename = f\"{ticker}.csv\"\n",
    "        df.to_csv(filename)\n",
    "        print(f\"Saved {filename}\")"
   ]
  },
  {
   "cell_type": "code",
   "execution_count": 11,
   "id": "1f37b4d6",
   "metadata": {},
   "outputs": [
    {
     "name": "stdout",
     "output_type": "stream",
     "text": [
      "Downloading batch 1: ['A', 'AAPL', 'ABBV', 'ABNB', 'ABT', 'ACGL', 'ACN', 'ADBE', 'ADI', 'ADM']\n"
     ]
    },
    {
     "name": "stderr",
     "output_type": "stream",
     "text": [
      "[*********************100%***********************]  10 of 10 completed\n"
     ]
    },
    {
     "name": "stdout",
     "output_type": "stream",
     "text": [
      "Downloading batch 2: ['ADP', 'ADSK', 'AEE', 'AEP', 'AES', 'AFL', 'AIG', 'AIZ', 'AJG', 'AKAM']\n"
     ]
    },
    {
     "name": "stderr",
     "output_type": "stream",
     "text": [
      "[*********************100%***********************]  10 of 10 completed\n"
     ]
    },
    {
     "name": "stdout",
     "output_type": "stream",
     "text": [
      "Downloading batch 3: ['ALB', 'ALGN', 'ALL', 'ALLE', 'AMAT', 'AMCR', 'AMD', 'AME', 'AMGN', 'AMP']\n"
     ]
    },
    {
     "name": "stderr",
     "output_type": "stream",
     "text": [
      "[*********************100%***********************]  10 of 10 completed\n"
     ]
    },
    {
     "name": "stdout",
     "output_type": "stream",
     "text": [
      "Downloading batch 4: ['AMT', 'AMZN', 'ANET', 'ANSS', 'AON', 'AOS', 'APA', 'APD', 'APH', 'APO']\n"
     ]
    },
    {
     "name": "stderr",
     "output_type": "stream",
     "text": [
      "[*********************100%***********************]  10 of 10 completed\n"
     ]
    },
    {
     "name": "stdout",
     "output_type": "stream",
     "text": [
      "Downloading batch 5: ['APTV', 'ARE', 'ATO', 'AVB', 'AVGO', 'AVY', 'AWK', 'AXON', 'AXP', 'AZO']\n"
     ]
    },
    {
     "name": "stderr",
     "output_type": "stream",
     "text": [
      "[*********************100%***********************]  10 of 10 completed\n"
     ]
    },
    {
     "name": "stdout",
     "output_type": "stream",
     "text": [
      "Downloading batch 6: ['BA', 'BAC', 'BALL', 'BAX', 'BBY', 'BDX', 'BEN', 'BF.B', 'BG', 'BIIB']\n"
     ]
    },
    {
     "name": "stderr",
     "output_type": "stream",
     "text": [
      "[*********************100%***********************]  10 of 10 completed\n",
      "\n",
      "1 Failed download:\n",
      "['BF.B']: YFPricesMissingError('possibly delisted; no price data found  (1d 2020-01-01 -> 2024-01-01)')\n"
     ]
    },
    {
     "name": "stdout",
     "output_type": "stream",
     "text": [
      "Downloading batch 7: ['BK', 'BKNG', 'BKR', 'BLDR', 'BLK', 'BMY', 'BR', 'BRK.B', 'BRO', 'BSX']\n"
     ]
    },
    {
     "name": "stderr",
     "output_type": "stream",
     "text": [
      "[*********************100%***********************]  10 of 10 completed\n",
      "\n",
      "1 Failed download:\n",
      "['BRK.B']: YFTzMissingError('possibly delisted; no timezone found')\n"
     ]
    },
    {
     "name": "stdout",
     "output_type": "stream",
     "text": [
      "Downloading batch 8: ['BX', 'BXP', 'C', 'CAG', 'CAH', 'CARR', 'CAT', 'CB', 'CBOE', 'CBRE']\n"
     ]
    },
    {
     "name": "stderr",
     "output_type": "stream",
     "text": [
      "[*********************100%***********************]  10 of 10 completed\n"
     ]
    },
    {
     "name": "stdout",
     "output_type": "stream",
     "text": [
      "Downloading batch 9: ['CCI', 'CCL', 'CDNS', 'CDW', 'CEG', 'CF', 'CFG', 'CHD', 'CHRW', 'CHTR']\n"
     ]
    },
    {
     "name": "stderr",
     "output_type": "stream",
     "text": [
      "[*********************100%***********************]  10 of 10 completed\n"
     ]
    },
    {
     "name": "stdout",
     "output_type": "stream",
     "text": [
      "Downloading batch 10: ['CI', 'CINF', 'CL', 'CLX', 'CMCSA', 'CME', 'CMG', 'CMI', 'CMS', 'CNC']\n"
     ]
    },
    {
     "name": "stderr",
     "output_type": "stream",
     "text": [
      "[*********************100%***********************]  10 of 10 completed\n"
     ]
    },
    {
     "name": "stdout",
     "output_type": "stream",
     "text": [
      "Downloading batch 11: ['CNP', 'COF', 'COIN', 'COO', 'COP', 'COR', 'COST', 'CPAY', 'CPB', 'CPRT']\n"
     ]
    },
    {
     "name": "stderr",
     "output_type": "stream",
     "text": [
      "[*********************100%***********************]  10 of 10 completed\n"
     ]
    },
    {
     "name": "stdout",
     "output_type": "stream",
     "text": [
      "Downloading batch 12: ['CPT', 'CRL', 'CRM', 'CRWD', 'CSCO', 'CSGP', 'CSX', 'CTAS', 'CTRA', 'CTSH']\n"
     ]
    },
    {
     "name": "stderr",
     "output_type": "stream",
     "text": [
      "[*********************100%***********************]  10 of 10 completed\n"
     ]
    },
    {
     "name": "stdout",
     "output_type": "stream",
     "text": [
      "Downloading batch 13: ['CTVA', 'CVS', 'CVX', 'CZR', 'D', 'DAL', 'DASH', 'DAY', 'DD', 'DE']\n"
     ]
    },
    {
     "name": "stderr",
     "output_type": "stream",
     "text": [
      "[*********************100%***********************]  10 of 10 completed\n"
     ]
    },
    {
     "name": "stdout",
     "output_type": "stream",
     "text": [
      "Downloading batch 14: ['DECK', 'DELL', 'DG', 'DGX', 'DHI', 'DHR', 'DIS', 'DLR', 'DLTR', 'DOC']\n"
     ]
    },
    {
     "name": "stderr",
     "output_type": "stream",
     "text": [
      "[*********************100%***********************]  10 of 10 completed\n"
     ]
    },
    {
     "name": "stdout",
     "output_type": "stream",
     "text": [
      "Downloading batch 15: ['DOV', 'DOW', 'DPZ', 'DRI', 'DTE', 'DUK', 'DVA', 'DVN', 'DXCM', 'EA']\n"
     ]
    },
    {
     "name": "stderr",
     "output_type": "stream",
     "text": [
      "[*********************100%***********************]  10 of 10 completed\n"
     ]
    },
    {
     "name": "stdout",
     "output_type": "stream",
     "text": [
      "Downloading batch 16: ['EBAY', 'ECL', 'ED', 'EFX', 'EG', 'EIX', 'EL', 'ELV', 'EMN', 'EMR']\n"
     ]
    },
    {
     "name": "stderr",
     "output_type": "stream",
     "text": [
      "[*********************100%***********************]  10 of 10 completed\n"
     ]
    },
    {
     "name": "stdout",
     "output_type": "stream",
     "text": [
      "Downloading batch 17: ['ENPH', 'EOG', 'EPAM', 'EQIX', 'EQR', 'EQT', 'ERIE', 'ES', 'ESS', 'ETN']\n"
     ]
    },
    {
     "name": "stderr",
     "output_type": "stream",
     "text": [
      "[*********************100%***********************]  10 of 10 completed\n"
     ]
    },
    {
     "name": "stdout",
     "output_type": "stream",
     "text": [
      "Downloading batch 18: ['ETR', 'EVRG', 'EW', 'EXC', 'EXE', 'EXPD', 'EXPE', 'EXR', 'F', 'FANG']\n"
     ]
    },
    {
     "name": "stderr",
     "output_type": "stream",
     "text": [
      "[*********************100%***********************]  10 of 10 completed\n"
     ]
    },
    {
     "name": "stdout",
     "output_type": "stream",
     "text": [
      "Downloading batch 19: ['FAST', 'FCX', 'FDS', 'FDX', 'FE', 'FFIV', 'FI', 'FICO', 'FIS', 'FITB']\n"
     ]
    },
    {
     "name": "stderr",
     "output_type": "stream",
     "text": [
      "[*********************100%***********************]  10 of 10 completed\n"
     ]
    },
    {
     "name": "stdout",
     "output_type": "stream",
     "text": [
      "Downloading batch 20: ['FOX', 'FOXA', 'FRT', 'FSLR', 'FTNT', 'FTV', 'GD', 'GDDY', 'GE', 'GEHC']\n"
     ]
    },
    {
     "name": "stderr",
     "output_type": "stream",
     "text": [
      "[*********************100%***********************]  10 of 10 completed\n"
     ]
    },
    {
     "name": "stdout",
     "output_type": "stream",
     "text": [
      "Downloading batch 21: ['GEN', 'GEV', 'GILD', 'GIS', 'GL', 'GLW', 'GM', 'GNRC', 'GOOG', 'GOOGL']\n"
     ]
    },
    {
     "name": "stderr",
     "output_type": "stream",
     "text": [
      "[*********************100%***********************]  10 of 10 completed\n",
      "\n",
      "1 Failed download:\n",
      "['GEV']: YFPricesMissingError('possibly delisted; no price data found  (1d 2020-01-01 -> 2024-01-01) (Yahoo error = \"Data doesn\\'t exist for startDate = 1577854800, endDate = 1704085200\")')\n"
     ]
    },
    {
     "name": "stdout",
     "output_type": "stream",
     "text": [
      "Downloading batch 22: ['GPC', 'GPN', 'GRMN', 'GS', 'GWW', 'HAL', 'HAS', 'HBAN', 'HCA', 'HD']\n"
     ]
    },
    {
     "name": "stderr",
     "output_type": "stream",
     "text": [
      "[*********************100%***********************]  10 of 10 completed\n"
     ]
    },
    {
     "name": "stdout",
     "output_type": "stream",
     "text": [
      "Downloading batch 23: ['HES', 'HIG', 'HII', 'HLT', 'HOLX', 'HON', 'HPE', 'HPQ', 'HRL', 'HSIC']\n"
     ]
    },
    {
     "name": "stderr",
     "output_type": "stream",
     "text": [
      "[*********************100%***********************]  10 of 10 completed\n"
     ]
    },
    {
     "name": "stdout",
     "output_type": "stream",
     "text": [
      "Downloading batch 24: ['HST', 'HSY', 'HUBB', 'HUM', 'HWM', 'IBM', 'ICE', 'IDXX', 'IEX', 'IFF']\n"
     ]
    },
    {
     "name": "stderr",
     "output_type": "stream",
     "text": [
      "[*********************100%***********************]  10 of 10 completed\n"
     ]
    },
    {
     "name": "stdout",
     "output_type": "stream",
     "text": [
      "Downloading batch 25: ['INCY', 'INTC', 'INTU', 'INVH', 'IP', 'IPG', 'IQV', 'IR', 'IRM', 'ISRG']\n"
     ]
    },
    {
     "name": "stderr",
     "output_type": "stream",
     "text": [
      "[*********************100%***********************]  10 of 10 completed\n"
     ]
    },
    {
     "name": "stdout",
     "output_type": "stream",
     "text": [
      "Downloading batch 26: ['IT', 'ITW', 'IVZ', 'J', 'JBHT', 'JBL', 'JCI', 'JKHY', 'JNJ', 'JNPR']\n"
     ]
    },
    {
     "name": "stderr",
     "output_type": "stream",
     "text": [
      "[*********************100%***********************]  10 of 10 completed\n"
     ]
    },
    {
     "name": "stdout",
     "output_type": "stream",
     "text": [
      "Downloading batch 27: ['JPM', 'K', 'KDP', 'KEY', 'KEYS', 'KHC', 'KIM', 'KKR', 'KLAC', 'KMB']\n"
     ]
    },
    {
     "name": "stderr",
     "output_type": "stream",
     "text": [
      "[*********************100%***********************]  10 of 10 completed\n"
     ]
    },
    {
     "name": "stdout",
     "output_type": "stream",
     "text": [
      "Downloading batch 28: ['KMI', 'KMX', 'KO', 'KR', 'KVUE', 'L', 'LDOS', 'LEN', 'LH', 'LHX']\n"
     ]
    },
    {
     "name": "stderr",
     "output_type": "stream",
     "text": [
      "[*********************100%***********************]  10 of 10 completed\n"
     ]
    },
    {
     "name": "stdout",
     "output_type": "stream",
     "text": [
      "Downloading batch 29: ['LII', 'LIN', 'LKQ', 'LLY', 'LMT', 'LNT', 'LOW', 'LRCX', 'LULU', 'LUV']\n"
     ]
    },
    {
     "name": "stderr",
     "output_type": "stream",
     "text": [
      "[*********************100%***********************]  10 of 10 completed\n"
     ]
    },
    {
     "name": "stdout",
     "output_type": "stream",
     "text": [
      "Downloading batch 30: ['LVS', 'LW', 'LYB', 'LYV', 'MA', 'MAA', 'MAR', 'MAS', 'MCD', 'MCHP']\n"
     ]
    },
    {
     "name": "stderr",
     "output_type": "stream",
     "text": [
      "[*********************100%***********************]  10 of 10 completed\n"
     ]
    },
    {
     "name": "stdout",
     "output_type": "stream",
     "text": [
      "Downloading batch 31: ['MCK', 'MCO', 'MDLZ', 'MDT', 'MET', 'META', 'MGM', 'MHK', 'MKC', 'MKTX']\n"
     ]
    },
    {
     "name": "stderr",
     "output_type": "stream",
     "text": [
      "[*********************100%***********************]  10 of 10 completed\n"
     ]
    },
    {
     "name": "stdout",
     "output_type": "stream",
     "text": [
      "Downloading batch 32: ['MLM', 'MMC', 'MMM', 'MNST', 'MO', 'MOH', 'MOS', 'MPC', 'MPWR', 'MRK']\n"
     ]
    },
    {
     "name": "stderr",
     "output_type": "stream",
     "text": [
      "[*********************100%***********************]  10 of 10 completed\n"
     ]
    },
    {
     "name": "stdout",
     "output_type": "stream",
     "text": [
      "Downloading batch 33: ['MRNA', 'MS', 'MSCI', 'MSFT', 'MSI', 'MTB', 'MTCH', 'MTD', 'MU', 'NCLH']\n"
     ]
    },
    {
     "name": "stderr",
     "output_type": "stream",
     "text": [
      "[*********************100%***********************]  10 of 10 completed\n"
     ]
    },
    {
     "name": "stdout",
     "output_type": "stream",
     "text": [
      "Downloading batch 34: ['NDAQ', 'NDSN', 'NEE', 'NEM', 'NFLX', 'NI', 'NKE', 'NOC', 'NOW', 'NRG']\n"
     ]
    },
    {
     "name": "stderr",
     "output_type": "stream",
     "text": [
      "[*********************100%***********************]  10 of 10 completed\n"
     ]
    },
    {
     "name": "stdout",
     "output_type": "stream",
     "text": [
      "Downloading batch 35: ['NSC', 'NTAP', 'NTRS', 'NUE', 'NVDA', 'NVR', 'NWS', 'NWSA', 'NXPI', 'O']\n"
     ]
    },
    {
     "name": "stderr",
     "output_type": "stream",
     "text": [
      "[*********************100%***********************]  10 of 10 completed\n"
     ]
    },
    {
     "name": "stdout",
     "output_type": "stream",
     "text": [
      "Downloading batch 36: ['ODFL', 'OKE', 'OMC', 'ON', 'ORCL', 'ORLY', 'OTIS', 'OXY', 'PANW', 'PARA']\n"
     ]
    },
    {
     "name": "stderr",
     "output_type": "stream",
     "text": [
      "[*********************100%***********************]  10 of 10 completed\n"
     ]
    },
    {
     "name": "stdout",
     "output_type": "stream",
     "text": [
      "Downloading batch 37: ['PAYC', 'PAYX', 'PCAR', 'PCG', 'PEG', 'PEP', 'PFE', 'PFG', 'PG', 'PGR']\n"
     ]
    },
    {
     "name": "stderr",
     "output_type": "stream",
     "text": [
      "[*********************100%***********************]  10 of 10 completed\n"
     ]
    },
    {
     "name": "stdout",
     "output_type": "stream",
     "text": [
      "Downloading batch 38: ['PH', 'PHM', 'PKG', 'PLD', 'PLTR', 'PM', 'PNC', 'PNR', 'PNW', 'PODD']\n"
     ]
    },
    {
     "name": "stderr",
     "output_type": "stream",
     "text": [
      "[*********************100%***********************]  10 of 10 completed\n"
     ]
    },
    {
     "name": "stdout",
     "output_type": "stream",
     "text": [
      "Downloading batch 39: ['POOL', 'PPG', 'PPL', 'PRU', 'PSA', 'PSX', 'PTC', 'PWR', 'PYPL', 'QCOM']\n"
     ]
    },
    {
     "name": "stderr",
     "output_type": "stream",
     "text": [
      "[*********************100%***********************]  10 of 10 completed\n"
     ]
    },
    {
     "name": "stdout",
     "output_type": "stream",
     "text": [
      "Downloading batch 40: ['RCL', 'REG', 'REGN', 'RF', 'RJF', 'RL', 'RMD', 'ROK', 'ROL', 'ROP']\n"
     ]
    },
    {
     "name": "stderr",
     "output_type": "stream",
     "text": [
      "[*********************100%***********************]  10 of 10 completed\n"
     ]
    },
    {
     "name": "stdout",
     "output_type": "stream",
     "text": [
      "Downloading batch 41: ['ROST', 'RSG', 'RTX', 'RVTY', 'SBAC', 'SBUX', 'SCHW', 'SHW', 'SJM', 'SLB']\n"
     ]
    },
    {
     "name": "stderr",
     "output_type": "stream",
     "text": [
      "[*********************100%***********************]  10 of 10 completed\n"
     ]
    },
    {
     "name": "stdout",
     "output_type": "stream",
     "text": [
      "Downloading batch 42: ['SMCI', 'SNA', 'SNPS', 'SO', 'SOLV', 'SPG', 'SPGI', 'SRE', 'STE', 'STLD']\n"
     ]
    },
    {
     "name": "stderr",
     "output_type": "stream",
     "text": [
      "[*********************100%***********************]  10 of 10 completed\n",
      "\n",
      "1 Failed download:\n",
      "['SOLV']: YFPricesMissingError('possibly delisted; no price data found  (1d 2020-01-01 -> 2024-01-01) (Yahoo error = \"Data doesn\\'t exist for startDate = 1577854800, endDate = 1704085200\")')\n"
     ]
    },
    {
     "name": "stdout",
     "output_type": "stream",
     "text": [
      "Downloading batch 43: ['STT', 'STX', 'STZ', 'SW', 'SWK', 'SWKS', 'SYF', 'SYK', 'SYY', 'T']\n"
     ]
    },
    {
     "name": "stderr",
     "output_type": "stream",
     "text": [
      "[*********************100%***********************]  9 of 10 completed\n",
      "\n",
      "1 Failed download:\n",
      "['SW']: YFPricesMissingError('possibly delisted; no price data found  (1d 2020-01-01 -> 2024-01-01) (Yahoo error = \"Data doesn\\'t exist for startDate = 1577854800, endDate = 1704085200\")')\n"
     ]
    },
    {
     "name": "stdout",
     "output_type": "stream",
     "text": [
      "Downloading batch 44: ['TAP', 'TDG', 'TDY', 'TECH', 'TEL', 'TER', 'TFC', 'TGT', 'TJX', 'TKO']\n"
     ]
    },
    {
     "name": "stderr",
     "output_type": "stream",
     "text": [
      "[*********************100%***********************]  10 of 10 completed\n"
     ]
    },
    {
     "name": "stdout",
     "output_type": "stream",
     "text": [
      "Downloading batch 45: ['TMO', 'TMUS', 'TPL', 'TPR', 'TRGP', 'TRMB', 'TROW', 'TRV', 'TSCO', 'TSLA']\n"
     ]
    },
    {
     "name": "stderr",
     "output_type": "stream",
     "text": [
      "[*********************100%***********************]  10 of 10 completed\n"
     ]
    },
    {
     "name": "stdout",
     "output_type": "stream",
     "text": [
      "Downloading batch 46: ['TSN', 'TT', 'TTWO', 'TXN', 'TXT', 'TYL', 'UAL', 'UBER', 'UDR', 'UHS']\n"
     ]
    },
    {
     "name": "stderr",
     "output_type": "stream",
     "text": [
      "[*********************100%***********************]  10 of 10 completed\n"
     ]
    },
    {
     "name": "stdout",
     "output_type": "stream",
     "text": [
      "Downloading batch 47: ['ULTA', 'UNH', 'UNP', 'UPS', 'URI', 'USB', 'V', 'VICI', 'VLO', 'VLTO']\n"
     ]
    },
    {
     "name": "stderr",
     "output_type": "stream",
     "text": [
      "[*********************100%***********************]  10 of 10 completed\n"
     ]
    },
    {
     "name": "stdout",
     "output_type": "stream",
     "text": [
      "Downloading batch 48: ['VMC', 'VRSK', 'VRSN', 'VRTX', 'VST', 'VTR', 'VTRS', 'VZ', 'WAB', 'WAT']\n"
     ]
    },
    {
     "name": "stderr",
     "output_type": "stream",
     "text": [
      "[*********************100%***********************]  10 of 10 completed\n"
     ]
    },
    {
     "name": "stdout",
     "output_type": "stream",
     "text": [
      "Downloading batch 49: ['WBA', 'WBD', 'WDAY', 'WDC', 'WEC', 'WELL', 'WFC', 'WM', 'WMB', 'WMT']\n"
     ]
    },
    {
     "name": "stderr",
     "output_type": "stream",
     "text": [
      "[*********************100%***********************]  10 of 10 completed\n"
     ]
    },
    {
     "name": "stdout",
     "output_type": "stream",
     "text": [
      "Downloading batch 50: ['WRB', 'WSM', 'WST', 'WTW', 'WY', 'WYNN', 'XEL', 'XOM', 'XYL', 'YUM']\n"
     ]
    },
    {
     "name": "stderr",
     "output_type": "stream",
     "text": [
      "[*********************100%***********************]  10 of 10 completed\n"
     ]
    },
    {
     "name": "stdout",
     "output_type": "stream",
     "text": [
      "Downloading batch 51: ['ZBH', 'ZBRA', 'ZTS']\n"
     ]
    },
    {
     "name": "stderr",
     "output_type": "stream",
     "text": [
      "[*********************100%***********************]  3 of 3 completed\n"
     ]
    },
    {
     "name": "stdout",
     "output_type": "stream",
     "text": [
      "Saved A.csv\n",
      "Saved AAPL.csv\n",
      "Saved ABBV.csv\n",
      "Saved ABNB.csv\n",
      "Saved ABT.csv\n",
      "Saved ACGL.csv\n",
      "Saved ACN.csv\n",
      "Saved ADBE.csv\n",
      "Saved ADI.csv\n",
      "Saved ADM.csv\n",
      "Saved ADP.csv\n",
      "Saved ADSK.csv\n",
      "Saved AEE.csv\n",
      "Saved AEP.csv\n",
      "Saved AES.csv\n",
      "Saved AFL.csv\n",
      "Saved AIG.csv\n",
      "Saved AIZ.csv\n",
      "Saved AJG.csv\n",
      "Saved AKAM.csv\n",
      "Saved ALB.csv\n",
      "Saved ALGN.csv\n",
      "Saved ALL.csv\n",
      "Saved ALLE.csv\n",
      "Saved AMAT.csv\n",
      "Saved AMCR.csv\n",
      "Saved AMD.csv\n",
      "Saved AME.csv\n",
      "Saved AMGN.csv\n",
      "Saved AMP.csv\n",
      "Saved AMT.csv\n",
      "Saved AMZN.csv\n",
      "Saved ANET.csv\n",
      "Saved ANSS.csv\n",
      "Saved AON.csv\n",
      "Saved AOS.csv\n",
      "Saved APA.csv\n",
      "Saved APD.csv\n",
      "Saved APH.csv\n",
      "Saved APO.csv\n",
      "Saved APTV.csv\n",
      "Saved ARE.csv\n",
      "Saved ATO.csv\n",
      "Saved AVB.csv\n",
      "Saved AVGO.csv\n",
      "Saved AVY.csv\n",
      "Saved AWK.csv\n",
      "Saved AXON.csv\n",
      "Saved AXP.csv\n",
      "Saved AZO.csv\n",
      "Saved BA.csv\n",
      "Saved BAC.csv\n",
      "Saved BALL.csv\n",
      "Saved BAX.csv\n",
      "Saved BBY.csv\n",
      "Saved BDX.csv\n",
      "Saved BEN.csv\n",
      "Saved BF.B.csv\n",
      "Saved BG.csv\n",
      "Saved BIIB.csv\n",
      "Saved BK.csv\n",
      "Saved BKNG.csv\n",
      "Saved BKR.csv\n",
      "Saved BLDR.csv\n",
      "Saved BLK.csv\n",
      "Saved BMY.csv\n",
      "Saved BR.csv\n",
      "Saved BRK.B.csv\n",
      "Saved BRO.csv\n",
      "Saved BSX.csv\n",
      "Saved BX.csv\n",
      "Saved BXP.csv\n",
      "Saved C.csv\n",
      "Saved CAG.csv\n",
      "Saved CAH.csv\n",
      "Saved CARR.csv\n",
      "Saved CAT.csv\n",
      "Saved CB.csv\n",
      "Saved CBOE.csv\n",
      "Saved CBRE.csv\n",
      "Saved CCI.csv\n",
      "Saved CCL.csv\n",
      "Saved CDNS.csv\n",
      "Saved CDW.csv\n",
      "Saved CEG.csv\n",
      "Saved CF.csv\n",
      "Saved CFG.csv\n",
      "Saved CHD.csv\n",
      "Saved CHRW.csv\n",
      "Saved CHTR.csv\n",
      "Saved CI.csv\n",
      "Saved CINF.csv\n",
      "Saved CL.csv\n",
      "Saved CLX.csv\n",
      "Saved CMCSA.csv\n",
      "Saved CME.csv\n",
      "Saved CMG.csv\n",
      "Saved CMI.csv\n",
      "Saved CMS.csv\n",
      "Saved CNC.csv\n",
      "Saved CNP.csv\n",
      "Saved COF.csv\n",
      "Saved COIN.csv\n",
      "Saved COO.csv\n",
      "Saved COP.csv\n",
      "Saved COR.csv\n",
      "Saved COST.csv\n",
      "Saved CPAY.csv\n",
      "Saved CPB.csv\n",
      "Saved CPRT.csv\n",
      "Saved CPT.csv\n",
      "Saved CRL.csv\n",
      "Saved CRM.csv\n",
      "Saved CRWD.csv\n",
      "Saved CSCO.csv\n",
      "Saved CSGP.csv\n",
      "Saved CSX.csv\n",
      "Saved CTAS.csv\n",
      "Saved CTRA.csv\n",
      "Saved CTSH.csv\n",
      "Saved CTVA.csv\n",
      "Saved CVS.csv\n",
      "Saved CVX.csv\n",
      "Saved CZR.csv\n",
      "Saved D.csv\n",
      "Saved DAL.csv\n",
      "Saved DASH.csv\n",
      "Saved DAY.csv\n",
      "Saved DD.csv\n",
      "Saved DE.csv\n",
      "Saved DECK.csv\n",
      "Saved DELL.csv\n",
      "Saved DG.csv\n",
      "Saved DGX.csv\n",
      "Saved DHI.csv\n",
      "Saved DHR.csv\n",
      "Saved DIS.csv\n",
      "Saved DLR.csv\n",
      "Saved DLTR.csv\n",
      "Saved DOC.csv\n",
      "Saved DOV.csv\n",
      "Saved DOW.csv\n",
      "Saved DPZ.csv\n",
      "Saved DRI.csv\n",
      "Saved DTE.csv\n",
      "Saved DUK.csv\n",
      "Saved DVA.csv\n",
      "Saved DVN.csv\n",
      "Saved DXCM.csv\n",
      "Saved EA.csv\n",
      "Saved EBAY.csv\n",
      "Saved ECL.csv\n",
      "Saved ED.csv\n",
      "Saved EFX.csv\n",
      "Saved EG.csv\n",
      "Saved EIX.csv\n",
      "Saved EL.csv\n",
      "Saved ELV.csv\n",
      "Saved EMN.csv\n",
      "Saved EMR.csv\n",
      "Saved ENPH.csv\n",
      "Saved EOG.csv\n",
      "Saved EPAM.csv\n",
      "Saved EQIX.csv\n",
      "Saved EQR.csv\n",
      "Saved EQT.csv\n",
      "Saved ERIE.csv\n",
      "Saved ES.csv\n",
      "Saved ESS.csv\n",
      "Saved ETN.csv\n",
      "Saved ETR.csv\n",
      "Saved EVRG.csv\n",
      "Saved EW.csv\n",
      "Saved EXC.csv\n",
      "Saved EXE.csv\n",
      "Saved EXPD.csv\n",
      "Saved EXPE.csv\n",
      "Saved EXR.csv\n",
      "Saved F.csv\n",
      "Saved FANG.csv\n",
      "Saved FAST.csv\n",
      "Saved FCX.csv\n",
      "Saved FDS.csv\n",
      "Saved FDX.csv\n",
      "Saved FE.csv\n",
      "Saved FFIV.csv\n",
      "Saved FI.csv\n",
      "Saved FICO.csv\n",
      "Saved FIS.csv\n",
      "Saved FITB.csv\n",
      "Saved FOX.csv\n",
      "Saved FOXA.csv\n",
      "Saved FRT.csv\n",
      "Saved FSLR.csv\n",
      "Saved FTNT.csv\n",
      "Saved FTV.csv\n",
      "Saved GD.csv\n",
      "Saved GDDY.csv\n",
      "Saved GE.csv\n",
      "Saved GEHC.csv\n",
      "Saved GEN.csv\n",
      "Saved GEV.csv\n",
      "Saved GILD.csv\n",
      "Saved GIS.csv\n",
      "Saved GL.csv\n",
      "Saved GLW.csv\n",
      "Saved GM.csv\n",
      "Saved GNRC.csv\n",
      "Saved GOOG.csv\n",
      "Saved GOOGL.csv\n",
      "Saved GPC.csv\n",
      "Saved GPN.csv\n",
      "Saved GRMN.csv\n",
      "Saved GS.csv\n",
      "Saved GWW.csv\n",
      "Saved HAL.csv\n",
      "Saved HAS.csv\n",
      "Saved HBAN.csv\n",
      "Saved HCA.csv\n",
      "Saved HD.csv\n",
      "Saved HES.csv\n",
      "Saved HIG.csv\n",
      "Saved HII.csv\n",
      "Saved HLT.csv\n",
      "Saved HOLX.csv\n",
      "Saved HON.csv\n",
      "Saved HPE.csv\n",
      "Saved HPQ.csv\n",
      "Saved HRL.csv\n",
      "Saved HSIC.csv\n",
      "Saved HST.csv\n",
      "Saved HSY.csv\n",
      "Saved HUBB.csv\n",
      "Saved HUM.csv\n",
      "Saved HWM.csv\n",
      "Saved IBM.csv\n",
      "Saved ICE.csv\n",
      "Saved IDXX.csv\n",
      "Saved IEX.csv\n",
      "Saved IFF.csv\n",
      "Saved INCY.csv\n",
      "Saved INTC.csv\n",
      "Saved INTU.csv\n",
      "Saved INVH.csv\n",
      "Saved IP.csv\n",
      "Saved IPG.csv\n",
      "Saved IQV.csv\n",
      "Saved IR.csv\n",
      "Saved IRM.csv\n",
      "Saved ISRG.csv\n",
      "Saved IT.csv\n",
      "Saved ITW.csv\n",
      "Saved IVZ.csv\n",
      "Saved J.csv\n",
      "Saved JBHT.csv\n",
      "Saved JBL.csv\n",
      "Saved JCI.csv\n",
      "Saved JKHY.csv\n",
      "Saved JNJ.csv\n",
      "Saved JNPR.csv\n",
      "Saved JPM.csv\n",
      "Saved K.csv\n",
      "Saved KDP.csv\n",
      "Saved KEY.csv\n",
      "Saved KEYS.csv\n",
      "Saved KHC.csv\n",
      "Saved KIM.csv\n",
      "Saved KKR.csv\n",
      "Saved KLAC.csv\n",
      "Saved KMB.csv\n",
      "Saved KMI.csv\n",
      "Saved KMX.csv\n",
      "Saved KO.csv\n",
      "Saved KR.csv\n",
      "Saved KVUE.csv\n",
      "Saved L.csv\n",
      "Saved LDOS.csv\n",
      "Saved LEN.csv\n",
      "Saved LH.csv\n",
      "Saved LHX.csv\n",
      "Saved LII.csv\n",
      "Saved LIN.csv\n",
      "Saved LKQ.csv\n",
      "Saved LLY.csv\n",
      "Saved LMT.csv\n",
      "Saved LNT.csv\n",
      "Saved LOW.csv\n",
      "Saved LRCX.csv\n",
      "Saved LULU.csv\n",
      "Saved LUV.csv\n",
      "Saved LVS.csv\n",
      "Saved LW.csv\n",
      "Saved LYB.csv\n",
      "Saved LYV.csv\n",
      "Saved MA.csv\n",
      "Saved MAA.csv\n",
      "Saved MAR.csv\n",
      "Saved MAS.csv\n",
      "Saved MCD.csv\n",
      "Saved MCHP.csv\n",
      "Saved MCK.csv\n",
      "Saved MCO.csv\n",
      "Saved MDLZ.csv\n",
      "Saved MDT.csv\n",
      "Saved MET.csv\n",
      "Saved META.csv\n",
      "Saved MGM.csv\n",
      "Saved MHK.csv\n",
      "Saved MKC.csv\n",
      "Saved MKTX.csv\n",
      "Saved MLM.csv\n",
      "Saved MMC.csv\n",
      "Saved MMM.csv\n",
      "Saved MNST.csv\n",
      "Saved MO.csv\n",
      "Saved MOH.csv\n",
      "Saved MOS.csv\n",
      "Saved MPC.csv\n",
      "Saved MPWR.csv\n",
      "Saved MRK.csv\n",
      "Saved MRNA.csv\n",
      "Saved MS.csv\n",
      "Saved MSCI.csv\n",
      "Saved MSFT.csv\n",
      "Saved MSI.csv\n",
      "Saved MTB.csv\n",
      "Saved MTCH.csv\n",
      "Saved MTD.csv\n",
      "Saved MU.csv\n",
      "Saved NCLH.csv\n",
      "Saved NDAQ.csv\n",
      "Saved NDSN.csv\n",
      "Saved NEE.csv\n",
      "Saved NEM.csv\n",
      "Saved NFLX.csv\n",
      "Saved NI.csv\n",
      "Saved NKE.csv\n",
      "Saved NOC.csv\n",
      "Saved NOW.csv\n",
      "Saved NRG.csv\n",
      "Saved NSC.csv\n",
      "Saved NTAP.csv\n",
      "Saved NTRS.csv\n",
      "Saved NUE.csv\n",
      "Saved NVDA.csv\n",
      "Saved NVR.csv\n",
      "Saved NWS.csv\n",
      "Saved NWSA.csv\n",
      "Saved NXPI.csv\n",
      "Saved O.csv\n",
      "Saved ODFL.csv\n",
      "Saved OKE.csv\n",
      "Saved OMC.csv\n",
      "Saved ON.csv\n",
      "Saved ORCL.csv\n",
      "Saved ORLY.csv\n",
      "Saved OTIS.csv\n",
      "Saved OXY.csv\n",
      "Saved PANW.csv\n",
      "Saved PARA.csv\n",
      "Saved PAYC.csv\n",
      "Saved PAYX.csv\n",
      "Saved PCAR.csv\n",
      "Saved PCG.csv\n",
      "Saved PEG.csv\n",
      "Saved PEP.csv\n",
      "Saved PFE.csv\n",
      "Saved PFG.csv\n",
      "Saved PG.csv\n",
      "Saved PGR.csv\n",
      "Saved PH.csv\n",
      "Saved PHM.csv\n",
      "Saved PKG.csv\n",
      "Saved PLD.csv\n",
      "Saved PLTR.csv\n",
      "Saved PM.csv\n",
      "Saved PNC.csv\n",
      "Saved PNR.csv\n",
      "Saved PNW.csv\n",
      "Saved PODD.csv\n",
      "Saved POOL.csv\n",
      "Saved PPG.csv\n",
      "Saved PPL.csv\n",
      "Saved PRU.csv\n",
      "Saved PSA.csv\n",
      "Saved PSX.csv\n",
      "Saved PTC.csv\n",
      "Saved PWR.csv\n",
      "Saved PYPL.csv\n",
      "Saved QCOM.csv\n",
      "Saved RCL.csv\n",
      "Saved REG.csv\n",
      "Saved REGN.csv\n",
      "Saved RF.csv\n",
      "Saved RJF.csv\n",
      "Saved RL.csv\n",
      "Saved RMD.csv\n",
      "Saved ROK.csv\n",
      "Saved ROL.csv\n",
      "Saved ROP.csv\n",
      "Saved ROST.csv\n",
      "Saved RSG.csv\n",
      "Saved RTX.csv\n",
      "Saved RVTY.csv\n",
      "Saved SBAC.csv\n",
      "Saved SBUX.csv\n",
      "Saved SCHW.csv\n",
      "Saved SHW.csv\n",
      "Saved SJM.csv\n",
      "Saved SLB.csv\n",
      "Saved SMCI.csv\n",
      "Saved SNA.csv\n",
      "Saved SNPS.csv\n",
      "Saved SO.csv\n",
      "Saved SOLV.csv\n",
      "Saved SPG.csv\n",
      "Saved SPGI.csv\n",
      "Saved SRE.csv\n",
      "Saved STE.csv\n",
      "Saved STLD.csv\n",
      "Saved STT.csv\n",
      "Saved STX.csv\n",
      "Saved STZ.csv\n",
      "Saved SW.csv\n",
      "Saved SWK.csv\n",
      "Saved SWKS.csv\n",
      "Saved SYF.csv\n",
      "Saved SYK.csv\n",
      "Saved SYY.csv\n",
      "Saved T.csv\n",
      "Saved TAP.csv\n",
      "Saved TDG.csv\n",
      "Saved TDY.csv\n",
      "Saved TECH.csv\n",
      "Saved TEL.csv\n",
      "Saved TER.csv\n",
      "Saved TFC.csv\n",
      "Saved TGT.csv\n",
      "Saved TJX.csv\n",
      "Saved TKO.csv\n",
      "Saved TMO.csv\n",
      "Saved TMUS.csv\n",
      "Saved TPL.csv\n",
      "Saved TPR.csv\n",
      "Saved TRGP.csv\n",
      "Saved TRMB.csv\n",
      "Saved TROW.csv\n",
      "Saved TRV.csv\n",
      "Saved TSCO.csv\n",
      "Saved TSLA.csv\n",
      "Saved TSN.csv\n",
      "Saved TT.csv\n",
      "Saved TTWO.csv\n",
      "Saved TXN.csv\n",
      "Saved TXT.csv\n",
      "Saved TYL.csv\n",
      "Saved UAL.csv\n",
      "Saved UBER.csv\n",
      "Saved UDR.csv\n",
      "Saved UHS.csv\n",
      "Saved ULTA.csv\n",
      "Saved UNH.csv\n",
      "Saved UNP.csv\n",
      "Saved UPS.csv\n",
      "Saved URI.csv\n",
      "Saved USB.csv\n",
      "Saved V.csv\n",
      "Saved VICI.csv\n",
      "Saved VLO.csv\n",
      "Saved VLTO.csv\n",
      "Saved VMC.csv\n",
      "Saved VRSK.csv\n",
      "Saved VRSN.csv\n",
      "Saved VRTX.csv\n",
      "Saved VST.csv\n",
      "Saved VTR.csv\n",
      "Saved VTRS.csv\n",
      "Saved VZ.csv\n",
      "Saved WAB.csv\n",
      "Saved WAT.csv\n",
      "Saved WBA.csv\n",
      "Saved WBD.csv\n",
      "Saved WDAY.csv\n",
      "Saved WDC.csv\n",
      "Saved WEC.csv\n",
      "Saved WELL.csv\n",
      "Saved WFC.csv\n",
      "Saved WM.csv\n",
      "Saved WMB.csv\n",
      "Saved WMT.csv\n",
      "Saved WRB.csv\n",
      "Saved WSM.csv\n",
      "Saved WST.csv\n",
      "Saved WTW.csv\n",
      "Saved WY.csv\n",
      "Saved WYNN.csv\n",
      "Saved XEL.csv\n",
      "Saved XOM.csv\n",
      "Saved XYL.csv\n",
      "Saved YUM.csv\n",
      "Saved ZBH.csv\n",
      "Saved ZBRA.csv\n",
      "Saved ZTS.csv\n"
     ]
    }
   ],
   "source": [
    "#################################################################################\n",
    "\n",
    "sp500_data , failed = download_sp500_data(tickers)\n",
    "save_data_to_csv(sp500_data)                                    # Downloading data. Might take a while and might take a lot of time.\n",
    "\n",
    "###################################################################################\n",
    "\n",
    "tickers = [t for t in tickers if t not in failed]               # Remove tickers that failed to download. \n",
    "\n",
    "\n"
   ]
  },
  {
   "cell_type": "code",
   "execution_count": 12,
   "id": "13ea2302",
   "metadata": {},
   "outputs": [],
   "source": [
    "# Save the ticker names\n",
    "\n",
    "t = pd.DataFrame(tickers)\n",
    "\n",
    "t.to_csv(\"Tickers.csv\")\n"
   ]
  }
 ],
 "metadata": {
  "kernelspec": {
   "display_name": ".venv",
   "language": "python",
   "name": "python3"
  },
  "language_info": {
   "codemirror_mode": {
    "name": "ipython",
    "version": 3
   },
   "file_extension": ".py",
   "mimetype": "text/x-python",
   "name": "python",
   "nbconvert_exporter": "python",
   "pygments_lexer": "ipython3",
   "version": "3.12.3"
  }
 },
 "nbformat": 4,
 "nbformat_minor": 5
}
